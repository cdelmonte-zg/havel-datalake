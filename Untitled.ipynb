{
 "cells": [
  {
   "cell_type": "code",
   "execution_count": 1,
   "id": "4eeb2e25-d7b9-4f40-b7ef-8fd7507c8d59",
   "metadata": {},
   "outputs": [
    {
     "data": {
      "text/plain": [
       "Intitializing PySpark ..."
      ]
     },
     "metadata": {},
     "output_type": "display_data"
    },
    {
     "data": {
      "text/plain": [
       "Spark Web UI available at http://fonduta.fritz.box:4040\n",
       "SparkContext available as 'sc' (version = 3.3.1, master = local[*], app id = local-1676490639840)\n",
       "SparkSession available as 'spark'\n"
      ]
     },
     "metadata": {},
     "output_type": "display_data"
    },
    {
     "name": "stdout",
     "output_type": "stream",
     "text": [
      "+---------+\n",
      "|namespace|\n",
      "+---------+\n",
      "|  default|\n",
      "|     test|\n",
      "|   testme|\n",
      "+---------+\n",
      "\n",
      "+---------+----------------+\n",
      "|teacherno|            name|\n",
      "+---------+----------------+\n",
      "|      100|         teodoro|\n",
      "|      100|         teodoro|\n",
      "|      102|   Rubeus Hagrid|\n",
      "|      102|   Rubeus Hagrid|\n",
      "|      103|   Severus Snape|\n",
      "|      102|   Rubeus Hagrid|\n",
      "|      101|Albus Dumbledore|\n",
      "|      103|   Severus Snape|\n",
      "|      102|   Rubeus Hagrid|\n",
      "|      103|   Severus Snape|\n",
      "|      103|   Severus Snape|\n",
      "|      101|Albus Dumbledore|\n",
      "|      102|   Rubeus Hagrid|\n",
      "|      101|Albus Dumbledore|\n",
      "|      101|Albus Dumbledore|\n",
      "|      102|   Rubeus Hagrid|\n",
      "|      102|   Rubeus Hagrid|\n",
      "|      101|Albus Dumbledore|\n",
      "|      101|Albus Dumbledore|\n",
      "|      101|Albus Dumbledore|\n",
      "+---------+----------------+\n",
      "only showing top 20 rows\n",
      "\n",
      "+---------+--------------+-----------+\n",
      "|namespace|     tableName|isTemporary|\n",
      "+---------+--------------+-----------+\n",
      "|  default|my_first_table|      false|\n",
      "|  default|       student|      false|\n",
      "|  default|       teacher|      false|\n",
      "+---------+--------------+-----------+\n",
      "\n"
     ]
    }
   ],
   "source": [
    "spark.sql('show databases').show()\n",
    "spark.sql('create table if not exists teacher (teacherno int, name string) using hive')\n",
    "spark.sql(\"insert into teacher values(101, 'Albus Dumbledore')\")\n",
    "spark.sql(\"insert into teacher values(102, 'Rubeus Hagrid')\")\n",
    "spark.sql(\"insert into teacher values(103, 'Severus Snape')\")\n",
    "spark.sql('select * from teacher').show()\n",
    "\n",
    "spark.sql('show tables').show()"
   ]
  },
  {
   "cell_type": "code",
   "execution_count": 2,
   "id": "8c83172a-aa0a-42eb-8f4f-d168f18588b0",
   "metadata": {},
   "outputs": [
    {
     "name": "stdout",
     "output_type": "stream",
     "text": [
      "Found 3 items\n",
      "\n",
      "\n",
      "drwxr-xr-x   - pi supergroup          0 2023-02-13 19:36 /user/hive/warehouse/my_first_table\n",
      "\n",
      "\n",
      "drwxr-xr-x   - pi supergroup          0 2023-02-11 20:21 /user/hive/warehouse/student\n",
      "\n",
      "\n",
      "drwxr-xr-x   - pi supergroup          0 2023-02-15 20:50 /user/hive/warehouse/teacher\n",
      "\n",
      "\n"
     ]
    }
   ],
   "source": [
    "!hadoop fs -ls /user/hive/warehouse/"
   ]
  },
  {
   "cell_type": "code",
   "execution_count": 3,
   "id": "6a9945c8-d08f-4526-98c3-aef517688dfa",
   "metadata": {},
   "outputs": [
    {
     "name": "stdout",
     "output_type": "stream",
     "text": [
      "+---------+----------------+\n",
      "|teacherno|            name|\n",
      "+---------+----------------+\n",
      "|      101|Albus Dumbledore|\n",
      "|      101|Albus Dumbledore|\n",
      "|      101|Albus Dumbledore|\n",
      "|      101|Albus Dumbledore|\n",
      "|      101|Albus Dumbledore|\n",
      "|      101|Albus Dumbledore|\n",
      "|      101|Albus Dumbledore|\n",
      "|      101|Albus Dumbledore|\n",
      "|      101|Albus Dumbledore|\n",
      "|      101|Albus Dumbledore|\n",
      "|      101|Albus Dumbledore|\n",
      "|      102|   Rubeus Hagrid|\n",
      "|      102|   Rubeus Hagrid|\n",
      "|      102|   Rubeus Hagrid|\n",
      "|      102|   Rubeus Hagrid|\n",
      "|      102|   Rubeus Hagrid|\n",
      "|      102|   Rubeus Hagrid|\n",
      "|      102|   Rubeus Hagrid|\n",
      "|      102|   Rubeus Hagrid|\n",
      "|      102|   Rubeus Hagrid|\n",
      "+---------+----------------+\n",
      "only showing top 20 rows\n",
      "\n"
     ]
    }
   ],
   "source": [
    "spark.sql('select * from teacher order by name').show()"
   ]
  },
  {
   "cell_type": "code",
   "execution_count": 17,
   "id": "ed94cb59-6811-41c3-95bf-892b968f3be6",
   "metadata": {},
   "outputs": [
    {
     "name": "stdout",
     "output_type": "stream",
     "text": [
      "+---------+----------------+\n",
      "|teacherno|            name|\n",
      "+---------+----------------+\n",
      "|      101|Albus Dumbledore|\n",
      "|      102|   Rubeus Hagrid|\n",
      "|      103|   Severus Snape|\n",
      "+---------+----------------+\n",
      "\n"
     ]
    }
   ],
   "source": [
    "spark.sql('SELECT a.teacherno, a.name FROM `default`.`teacher` as a GROUP BY a.teacherno, a.name ORDER BY a.teacherno LIMIT 100').show()"
   ]
  },
  {
   "cell_type": "code",
   "execution_count": 1,
   "id": "a7b54bed-6657-4b5f-9b88-aa1c7b6e3c7e",
   "metadata": {},
   "outputs": [
    {
     "data": {
      "text/plain": [
       "Intitializing PySpark ..."
      ]
     },
     "metadata": {},
     "output_type": "display_data"
    },
    {
     "data": {
      "text/plain": [
       "Spark Web UI available at http://fonduta.fritz.box:4040\n",
       "SparkContext available as 'sc' (version = 3.3.1, master = local[*], app id = local-1676883525726)\n",
       "SparkSession available as 'spark'\n"
      ]
     },
     "metadata": {},
     "output_type": "display_data"
    },
    {
     "name": "stdout",
     "output_type": "stream",
     "text": [
      "{'text/plain': \"GraphWidget(layout=Layout(height='500px', width='100%'))\", 'application/vnd.jupyter.widget-view+json': {'version_major': 2, 'version_minor': 0, 'model_id': '81ae59e918564797995f8fa2a0969959'}}\n"
     ]
    }
   ],
   "source": [
    "from neo4j import GraphDatabase\n",
    "uri      = \"neo4j+s://demo.neo4jlabs.com\" \n",
    "user     = \"movies\"          # your user name \n",
    "                              # default is always \"neo4j\" \n",
    "                              # unless you have changed it. \n",
    "password = \"movies\"\n",
    "\n",
    "driver = GraphDatabase.driver(uri=uri,auth=(user,password),database='movies')\n",
    "session = driver.session(database='movies')\n",
    "\n",
    "\n",
    "result = session.run(\"MATCH (s)-[r]->(t) RETURN s,r,t LIMIT 20\")\n",
    "\n",
    "\n",
    "from yfiles_jupyter_graphs import GraphWidget\n",
    "\n",
    "w = GraphWidget(graph = result.graph())\n",
    "\n",
    "w.show()"
   ]
  },
  {
   "cell_type": "code",
   "execution_count": 2,
   "id": "5e9dcdc8-f615-4087-9f73-94759a5f0adb",
   "metadata": {},
   "outputs": [],
   "source": [
    "%matplotlib inline"
   ]
  },
  {
   "cell_type": "code",
   "execution_count": 1,
   "id": "4bcc74ed-3358-4272-8d83-b2c7247d9a7f",
   "metadata": {},
   "outputs": [
    {
     "name": "stderr",
     "output_type": "stream",
     "text": [
      "\u001b[0;31mError in calling magic 'matplotlib' on line:\n",
      "    'inline' is not a valid value for backend; supported values are ['GTK3Agg', 'GTK3Cairo', 'GTK4Agg', 'GTK4Cairo', 'MacOSX', 'nbAgg', 'QtAgg', 'QtCairo', 'Qt5Agg', 'Qt5Cairo', 'TkAgg', 'TkCairo', 'WebAgg', 'WX', 'WXAgg', 'WXCairo', 'agg', 'cairo', 'pdf', 'pgf', 'ps', 'svg', 'template']\n",
      "    args: ['inline']\n",
      "    kwargs: {}\n",
      "\u001b[0m\u001b[0;31mTraceback (most recent call last):\n",
      "  File \"/home/pi/anaconda3/lib/python3.9/site-packages/metakernel/magic.py\", line 96, in call_magic\n",
      "    func(*args, **kwargs)\n",
      "  File \"/home/pi/anaconda3/lib/python3.9/site-packages/metakernel/magics/matplotlib_magic.py\", line 40, in line_matplotlib\n",
      "    matplotlib.use(backend)\n",
      "  File \"/home/pi/anaconda3/lib/python3.9/site-packages/matplotlib/__init__.py\", line 1127, in use\n",
      "    name = validate_backend(backend)\n",
      "  File \"/home/pi/anaconda3/lib/python3.9/site-packages/matplotlib/rcsetup.py\", line 255, in validate_backend\n",
      "    else _validate_standard_backends(s))\n",
      "  File \"/home/pi/anaconda3/lib/python3.9/site-packages/matplotlib/rcsetup.py\", line 82, in __call__\n",
      "    raise ValueError(msg)\n",
      "ValueError: 'inline' is not a valid value for backend; supported values are ['GTK3Agg', 'GTK3Cairo', 'GTK4Agg', 'GTK4Cairo', 'MacOSX', 'nbAgg', 'QtAgg', 'QtCairo', 'Qt5Agg', 'Qt5Cairo', 'TkAgg', 'TkCairo', 'WebAgg', 'WX', 'WXAgg', 'WXCairo', 'agg', 'cairo', 'pdf', 'pgf', 'ps', 'svg', 'template']\n",
      "\n",
      "\u001b[0m\u001b[0;31m%matplotlib BACKEND - set the matplotlib backend to BACKEND\n",
      "\n",
      "This line magic will set (and reload) the items associated\n",
      "with the matplotlib backend.\n",
      "\n",
      "Also, monkeypatches the IPython.display.display\n",
      "to work with metakernel-based kernels.\n",
      "\n",
      "Example:\n",
      "    %matplotlib notebook\n",
      "\n",
      "    import matplotlib.pyplot as plt\n",
      "    plt.plot([3, 8, 2, 5, 1])\n",
      "    plt.show()\n",
      "\u001b[0m"
     ]
    }
   ],
   "source": [
    "%matplotlib inline"
   ]
  },
  {
   "cell_type": "code",
   "execution_count": 2,
   "id": "88468e5f-e79e-486e-bcaf-093a5eca0e64",
   "metadata": {},
   "outputs": [
    {
     "name": "stdout",
     "output_type": "stream",
     "text": [
      "Available line magics:\n",
      "%activity  %cd  %connect_info  %conversation  %dot  %download  %edit  %get  %help  %html  %include  %install  %install_magic  %javascript  %jigsaw  %kernel  %kx  %latex  %load  %ls  %lsmagic  %macro  %magic  %matplotlib  %parallel  %plot  %pmap  %px  %pyspark  %pyspark_add_to_cell  %pyspark_initialize_kernel  %pyspark_interactive_datatable  %python  %reload_magics  %restart  %run  %scheme  %set  %shell\n",
      "\n",
      "Available cell magics:\n",
      "%%activity  %%brain  %%conversation  %%debug  %%dot  %%file  %%help  %%html  %%javascript  %%kx  %%latex  %%macro  %%pipe  %%processing  %%px  %%pyspark  %%python  %%scheme  %%shell  %%show  %%time  %%tutor\n"
     ]
    }
   ],
   "source": [
    "%lsmagic\n"
   ]
  },
  {
   "cell_type": "code",
   "execution_count": 2,
   "id": "9b7a3dd6-3c2f-4a6a-b53c-e78f50a66f20",
   "metadata": {},
   "outputs": [
    {
     "name": "stdout",
     "output_type": "stream",
     "text": [
      "{'text/plain': \"GraphWidget(layout=Layout(height='500px', width='100%'))\", 'application/vnd.jupyter.widget-view+json': {'version_major': 2, 'version_minor': 0, 'model_id': '0d0ab130bcff42f388ce84639a61bd23'}}\n"
     ]
    }
   ],
   "source": [
    "%%python \n",
    "\n",
    "from neo4j import GraphDatabase\n",
    "uri      = \"neo4j+s://demo.neo4jlabs.com\" \n",
    "user     = \"movies\"          # your user name \n",
    "                              # default is always \"neo4j\" \n",
    "                              # unless you have changed it. \n",
    "password = \"movies\"\n",
    "\n",
    "driver = GraphDatabase.driver(uri=uri,auth=(user,password),database='movies')\n",
    "session = driver.session(database='movies')\n",
    "\n",
    "\n",
    "result = session.run(\"MATCH (s)-[r]->(t) RETURN s,r,t LIMIT 20\")\n",
    "\n",
    "\n",
    "from yfiles_jupyter_graphs import GraphWidget\n",
    "\n",
    "w = GraphWidget(graph = result.graph())\n",
    "\n",
    "w.show()\n"
   ]
  },
  {
   "cell_type": "code",
   "execution_count": null,
   "id": "cb41e351-4016-470a-9eb2-278745c30f7a",
   "metadata": {},
   "outputs": [],
   "source": []
  }
 ],
 "metadata": {
  "kernelspec": {
   "display_name": "PySpark (python)",
   "language": "python",
   "name": "pyspark_kernel"
  },
  "language_info": {
   "file_extension": ".py",
   "help_links": [
    {
     "text": "MetaKernel Magics",
     "url": "https://metakernel.readthedocs.io/en/latest/source/README.html"
    }
   ],
   "mimetype": "text/x-python",
   "name": "python"
  }
 },
 "nbformat": 4,
 "nbformat_minor": 5
}
