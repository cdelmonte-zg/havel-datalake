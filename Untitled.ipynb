{
 "cells": [
  {
   "cell_type": "code",
   "execution_count": 1,
   "id": "4eeb2e25-d7b9-4f40-b7ef-8fd7507c8d59",
   "metadata": {},
   "outputs": [
    {
     "data": {
      "text/plain": [
       "Intitializing PySpark ..."
      ]
     },
     "metadata": {},
     "output_type": "display_data"
    },
    {
     "data": {
      "text/plain": [
       "Spark Web UI available at http://fonduta.fritz.box:4040\n",
       "SparkContext available as 'sc' (version = 3.3.1, master = local[*], app id = local-1676490639840)\n",
       "SparkSession available as 'spark'\n"
      ]
     },
     "metadata": {},
     "output_type": "display_data"
    },
    {
     "name": "stdout",
     "output_type": "stream",
     "text": [
      "+---------+\n",
      "|namespace|\n",
      "+---------+\n",
      "|  default|\n",
      "|     test|\n",
      "|   testme|\n",
      "+---------+\n",
      "\n",
      "+---------+----------------+\n",
      "|teacherno|            name|\n",
      "+---------+----------------+\n",
      "|      100|         teodoro|\n",
      "|      100|         teodoro|\n",
      "|      102|   Rubeus Hagrid|\n",
      "|      102|   Rubeus Hagrid|\n",
      "|      103|   Severus Snape|\n",
      "|      102|   Rubeus Hagrid|\n",
      "|      101|Albus Dumbledore|\n",
      "|      103|   Severus Snape|\n",
      "|      102|   Rubeus Hagrid|\n",
      "|      103|   Severus Snape|\n",
      "|      103|   Severus Snape|\n",
      "|      101|Albus Dumbledore|\n",
      "|      102|   Rubeus Hagrid|\n",
      "|      101|Albus Dumbledore|\n",
      "|      101|Albus Dumbledore|\n",
      "|      102|   Rubeus Hagrid|\n",
      "|      102|   Rubeus Hagrid|\n",
      "|      101|Albus Dumbledore|\n",
      "|      101|Albus Dumbledore|\n",
      "|      101|Albus Dumbledore|\n",
      "+---------+----------------+\n",
      "only showing top 20 rows\n",
      "\n",
      "+---------+--------------+-----------+\n",
      "|namespace|     tableName|isTemporary|\n",
      "+---------+--------------+-----------+\n",
      "|  default|my_first_table|      false|\n",
      "|  default|       student|      false|\n",
      "|  default|       teacher|      false|\n",
      "+---------+--------------+-----------+\n",
      "\n"
     ]
    }
   ],
   "source": [
    "spark.sql('show databases').show()\n",
    "spark.sql('create table if not exists teacher (teacherno int, name string) using hive')\n",
    "spark.sql(\"insert into teacher values(101, 'Albus Dumbledore')\")\n",
    "spark.sql(\"insert into teacher values(102, 'Rubeus Hagrid')\")\n",
    "spark.sql(\"insert into teacher values(103, 'Severus Snape')\")\n",
    "spark.sql('select * from teacher').show()\n",
    "\n",
    "spark.sql('show tables').show()"
   ]
  },
  {
   "cell_type": "code",
   "execution_count": 2,
   "id": "8c83172a-aa0a-42eb-8f4f-d168f18588b0",
   "metadata": {},
   "outputs": [
    {
     "name": "stdout",
     "output_type": "stream",
     "text": [
      "Found 3 items\n",
      "\n",
      "\n",
      "drwxr-xr-x   - pi supergroup          0 2023-02-13 19:36 /user/hive/warehouse/my_first_table\n",
      "\n",
      "\n",
      "drwxr-xr-x   - pi supergroup          0 2023-02-11 20:21 /user/hive/warehouse/student\n",
      "\n",
      "\n",
      "drwxr-xr-x   - pi supergroup          0 2023-02-15 20:50 /user/hive/warehouse/teacher\n",
      "\n",
      "\n"
     ]
    }
   ],
   "source": [
    "!hadoop fs -ls /user/hive/warehouse/"
   ]
  },
  {
   "cell_type": "code",
   "execution_count": 3,
   "id": "6a9945c8-d08f-4526-98c3-aef517688dfa",
   "metadata": {},
   "outputs": [
    {
     "name": "stdout",
     "output_type": "stream",
     "text": [
      "+---------+----------------+\n",
      "|teacherno|            name|\n",
      "+---------+----------------+\n",
      "|      101|Albus Dumbledore|\n",
      "|      101|Albus Dumbledore|\n",
      "|      101|Albus Dumbledore|\n",
      "|      101|Albus Dumbledore|\n",
      "|      101|Albus Dumbledore|\n",
      "|      101|Albus Dumbledore|\n",
      "|      101|Albus Dumbledore|\n",
      "|      101|Albus Dumbledore|\n",
      "|      101|Albus Dumbledore|\n",
      "|      101|Albus Dumbledore|\n",
      "|      101|Albus Dumbledore|\n",
      "|      102|   Rubeus Hagrid|\n",
      "|      102|   Rubeus Hagrid|\n",
      "|      102|   Rubeus Hagrid|\n",
      "|      102|   Rubeus Hagrid|\n",
      "|      102|   Rubeus Hagrid|\n",
      "|      102|   Rubeus Hagrid|\n",
      "|      102|   Rubeus Hagrid|\n",
      "|      102|   Rubeus Hagrid|\n",
      "|      102|   Rubeus Hagrid|\n",
      "+---------+----------------+\n",
      "only showing top 20 rows\n",
      "\n"
     ]
    }
   ],
   "source": [
    "spark.sql('select * from teacher order by name').show()"
   ]
  },
  {
   "cell_type": "code",
   "execution_count": 17,
   "id": "ed94cb59-6811-41c3-95bf-892b968f3be6",
   "metadata": {},
   "outputs": [
    {
     "name": "stdout",
     "output_type": "stream",
     "text": [
      "+---------+----------------+\n",
      "|teacherno|            name|\n",
      "+---------+----------------+\n",
      "|      101|Albus Dumbledore|\n",
      "|      102|   Rubeus Hagrid|\n",
      "|      103|   Severus Snape|\n",
      "+---------+----------------+\n",
      "\n"
     ]
    }
   ],
   "source": [
    "spark.sql('SELECT a.teacherno, a.name FROM `default`.`teacher` as a GROUP BY a.teacherno, a.name ORDER BY a.teacherno LIMIT 100').show()"
   ]
  },
  {
   "cell_type": "code",
   "execution_count": null,
   "id": "a7b54bed-6657-4b5f-9b88-aa1c7b6e3c7e",
   "metadata": {},
   "outputs": [],
   "source": []
  }
 ],
 "metadata": {
  "kernelspec": {
   "display_name": "PySpark (python)",
   "language": "python",
   "name": "pyspark_kernel"
  },
  "language_info": {
   "file_extension": ".py",
   "help_links": [
    {
     "text": "MetaKernel Magics",
     "url": "https://metakernel.readthedocs.io/en/latest/source/README.html"
    }
   ],
   "mimetype": "text/x-python",
   "name": "python"
  }
 },
 "nbformat": 4,
 "nbformat_minor": 5
}
