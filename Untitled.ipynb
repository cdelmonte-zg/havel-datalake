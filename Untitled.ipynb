{
 "cells": [
  {
   "cell_type": "code",
   "execution_count": null,
   "id": "4eeb2e25-d7b9-4f40-b7ef-8fd7507c8d59",
   "metadata": {},
   "outputs": [],
   "source": [
    "spark.sql('show databases').show()\n",
    "spark.sql('create table if not exists teacher (teacherno int, name string) using hive')\n",
    "spark.sql(\"insert into teacher values(101, 'Albus Dumbledore')\")\n",
    "spark.sql(\"insert into teacher values(102, 'Rubeus Hagrid')\")\n",
    "spark.sql(\"insert into teacher values(103, 'Severus Snape')\")\n",
    "spark.sql('select * from teacher').show()\n",
    "\n",
    "!hadoop fs -ls /apps/hive/warehouse/\n",
    "\n",
    "spark.sql('show tables').show()"
   ]
  }
 ],
 "metadata": {
  "kernelspec": {
   "display_name": "PySpark (python)",
   "language": "python",
   "name": "pyspark_kernel"
  },
  "language_info": {
   "file_extension": ".py",
   "help_links": [
    {
     "text": "MetaKernel Magics",
     "url": "https://metakernel.readthedocs.io/en/latest/source/README.html"
    }
   ],
   "mimetype": "text/x-python",
   "name": "python"
  }
 },
 "nbformat": 4,
 "nbformat_minor": 5
}
